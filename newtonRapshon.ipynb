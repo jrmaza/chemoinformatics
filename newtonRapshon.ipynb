{
  "nbformat": 4,
  "nbformat_minor": 0,
  "metadata": {
    "colab": {
      "provenance": [],
      "collapsed_sections": []
    },
    "kernelspec": {
      "name": "python3",
      "display_name": "Python 3"
    },
    "language_info": {
      "name": "python"
    }
  },
  "cells": [
    {
      "cell_type": "markdown",
      "source": [
        "# Newton-Rapshon para resolver la ecuación de Van der Waals\n",
        "El comportamiento deja de ser ideal para los gases en la naturaleza, para tomar en cuenta esto, la presión debe contener parámetros de interacción intermolecular $\\frac{an^2}{V^2}$ y el volumen ser determinado en función del volumen molar $nb$.\n",
        "\\begin{align}\n",
        "(P + \\frac{an^2}{V^2})(V -nb) = nRT \\\\\n",
        "(P+\\frac{a}{\\bar{V}^2})(\\bar{V}-b) = RT\n",
        "\\end{align}\n",
        "\n",
        "* Determinar el volumen molar $\\bar{V}$ del gas butano a una presión de 3bar y temperatura de 50C, $a=14.66L^2bar/mol^2$, $b=0.1226L/mol$\n",
        "\n",
        "\\begin{align}\n",
        "f(\\bar{V}) = (P+\\frac{a}{\\bar{V}^2})(\\bar{V}-b) - RT = 0\n",
        "\\end{align}\n",
        "\n",
        "Resolvemos paréntesis\n",
        "\n",
        "\\begin{align}\n",
        "f(\\bar{V}) = P\\bar{V} - Pb + \\frac{a}{\\bar{V}} - \\frac{ab}{\\bar{V}^2} - RT = 0\n",
        "\\end{align}\n",
        "\n",
        "Ahora multiplicamos todo por $\\bar{V}^2$\n",
        "\n",
        "\\begin{align}\n",
        "f(\\bar{V}) = P\\bar{V}^3 - Pb\\bar{V}^2 + a\\bar{V} - ab - RT\\bar{V}^2\n",
        "\\end{align}\n",
        "\n",
        "Calularemos la primera derivada de la función $f(\\bar{V})$"
      ],
      "metadata": {
        "id": "K2O0UsRFokvI"
      }
    },
    {
      "cell_type": "code",
      "source": [
        "from sympy import *\n",
        "import numpy as np"
      ],
      "metadata": {
        "id": "1sRXAPD2s86o"
      },
      "execution_count": null,
      "outputs": []
    },
    {
      "cell_type": "code",
      "source": [
        "x = Symbol('V')\n",
        "P = Symbol('P')\n",
        "b = Symbol('b')\n",
        "a = Symbol('a')\n",
        "R = Symbol('R')\n",
        "T = Symbol('T')\n",
        "y = P*x**3 - P*b*x**2 + a*x -a*b - R*T*x**2"
      ],
      "metadata": {
        "id": "YUlYMVrJtLyS"
      },
      "execution_count": null,
      "outputs": []
    },
    {
      "cell_type": "code",
      "source": [
        "yprima = y.diff(x)"
      ],
      "metadata": {
        "id": "L0XChr_it4X2"
      },
      "execution_count": null,
      "outputs": []
    },
    {
      "cell_type": "code",
      "source": [
        "yprima"
      ],
      "metadata": {
        "colab": {
          "base_uri": "https://localhost:8080/",
          "height": 39
        },
        "id": "H1I6bpoZuC50",
        "outputId": "2b645c70-99ec-4ae0-9519-efa3a64f6ec1"
      },
      "execution_count": null,
      "outputs": [
        {
          "output_type": "execute_result",
          "data": {
            "text/plain": [
              "3*P*V**2 - 2*P*V*b - 2*R*T*V + a"
            ],
            "text/latex": "$\\displaystyle 3 P V^{2} - 2 P V b - 2 R T V + a$"
          },
          "metadata": {},
          "execution_count": 28
        }
      ]
    },
    {
      "cell_type": "code",
      "source": [
        "P = 3 # presión en bar\n",
        "T = 50 + 273.15 \n",
        "a = 14.66 \n",
        "b = 0.1226\n",
        "R = 8.314e-2 #R in bar"
      ],
      "metadata": {
        "id": "MqYFE53RwhVh"
      },
      "execution_count": null,
      "outputs": []
    },
    {
      "cell_type": "code",
      "source": [
        "def vgi(R,T,P):\n",
        "  vol = R*T/P\n",
        "  return vol"
      ],
      "metadata": {
        "id": "ab16OkV-xEyI"
      },
      "execution_count": null,
      "outputs": []
    },
    {
      "cell_type": "code",
      "source": [
        "vgi(R,T,P)"
      ],
      "metadata": {
        "colab": {
          "base_uri": "https://localhost:8080/"
        },
        "id": "JRG4xo3YMtn3",
        "outputId": "c507d071-5918-4ebc-c32d-21be274a3c26"
      },
      "execution_count": null,
      "outputs": [
        {
          "output_type": "execute_result",
          "data": {
            "text/plain": [
              "8.955563666666666"
            ]
          },
          "metadata": {},
          "execution_count": 33
        }
      ]
    },
    {
      "cell_type": "code",
      "source": [
        "y"
      ],
      "metadata": {
        "colab": {
          "base_uri": "https://localhost:8080/",
          "height": 39
        },
        "id": "E7J7kjnkNoQH",
        "outputId": "1806b2b7-b19b-4272-8752-836530e5f35c"
      },
      "execution_count": null,
      "outputs": [
        {
          "output_type": "execute_result",
          "data": {
            "text/plain": [
              "P*V**3 - P*V**2*b - R*T*V**2 + V*a - a*b"
            ],
            "text/latex": "$\\displaystyle P V^{3} - P V^{2} b - R T V^{2} + V a - a b$"
          },
          "metadata": {},
          "execution_count": 36
        }
      ]
    },
    {
      "cell_type": "code",
      "source": [
        "def fvdw(P,V,b,a,R,T):\n",
        "  f = P*V**3 - P*V**2*b - R*T*V**2 + V*a - a*b\n",
        "  return f"
      ],
      "metadata": {
        "id": "qioeECZ3M1lG"
      },
      "execution_count": null,
      "outputs": []
    },
    {
      "cell_type": "code",
      "source": [
        "fvdw(P,8.955,b,a,R,T)"
      ],
      "metadata": {
        "colab": {
          "base_uri": "https://localhost:8080/"
        },
        "id": "YTbmUp6BNVIE",
        "outputId": "f432c585-baa6-4cf4-8bab-c6ee04b74f47"
      },
      "execution_count": null,
      "outputs": [
        {
          "output_type": "execute_result",
          "data": {
            "text/plain": [
              "99.85275249072518"
            ]
          },
          "metadata": {},
          "execution_count": 38
        }
      ]
    }
  ]
}