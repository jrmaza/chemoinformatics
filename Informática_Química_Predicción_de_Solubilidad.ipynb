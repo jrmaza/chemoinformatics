{
  "nbformat": 4,
  "nbformat_minor": 0,
  "metadata": {
    "colab": {
      "provenance": [],
      "authorship_tag": "ABX9TyN6vwVjRfjkGfcbFpoCL+Sf",
      "include_colab_link": true
    },
    "kernelspec": {
      "name": "python3",
      "display_name": "Python 3"
    },
    "language_info": {
      "name": "python"
    }
  },
  "cells": [
    {
      "cell_type": "markdown",
      "metadata": {
        "id": "view-in-github",
        "colab_type": "text"
      },
      "source": [
        "<a href=\"https://colab.research.google.com/github/jrmaza/chemoinformatics/blob/main/Inform%C3%A1tica_Qu%C3%ADmica_Predicci%C3%B3n_de_Solubilidad.ipynb\" target=\"_parent\"><img src=\"https://colab.research.google.com/assets/colab-badge.svg\" alt=\"Open In Colab\"/></a>"
      ]
    },
    {
      "cell_type": "markdown",
      "source": [
        "# **Predicción de la solubilidad en medio acuoso mediante el cálculo de propiedades moleculares con RDKit**\n",
        "\n",
        "Delaney2004, diseñó una ecuación para la estimación de la solubilidad en agua $log(S_w)$\n",
        "<table class=\"tfo-notebook-buttons\" align=\"left\">\n",
        "  <td>\n",
        "    <a target=\"_blank\" href=\"https://pubs.acs.org/doi/10.1021/ci034243x\"><img src=\"https://github.com/jrmaza/media/blob/main/ESOL_paper.png?raw=true\" />Run in Google Colab</a>\n",
        "  </td>\n",
        "</table>\n",
        "\n",
        "Mediante la ecuación paramétrica\n",
        "\n",
        "\\begin{align}\n",
        "log(S_w) = 0.16 - 0.63logP - 0.0062MWT + 0.066RB - 0.74AP \n",
        "\\end{align}\n",
        "\n",
        "Donde $logP$ es la constante de partición octanol/agua, $MWT$ es el peso molecular total, $RB$ es el número de enlaces rotables que tiene la molécula y $AP$ es la proporción de átomos aromáticos con respecto al total de átomos que tiene la moléecula"
      ],
      "metadata": {
        "id": "7xln8ZOPIbPM"
      }
    },
    {
      "cell_type": "markdown",
      "source": [
        "Para llevar a cabo la comprobación de esta ecuación, debemos utilizar la librería ```RDKit``` disponible en ```python```, a continuación ejecute la siguiente celda (hacer click en el símbolo <img src=\"https://github.com/jrmaza/media/blob/main/play.png?raw=true\" width=\"40\" height=\"40\" /> que aparecerá cuando sitúa el mouse sobre la frase en azul: Mostrar código) \n",
        "\n",
        "\n",
        "\n"
      ],
      "metadata": {
        "id": "-b6rXHomPKjY"
      }
    },
    {
      "cell_type": "code",
      "execution_count": 48,
      "metadata": {
        "colab": {
          "base_uri": "https://localhost:8080/"
        },
        "cellView": "form",
        "id": "lJv1kp51IWrN",
        "outputId": "06988e9a-1509-4af2-8f98-8f764d6a42c1"
      },
      "outputs": [
        {
          "output_type": "stream",
          "name": "stdout",
          "text": [
            "Looking in indexes: https://pypi.org/simple, https://us-python.pkg.dev/colab-wheels/public/simple/\n",
            "Requirement already satisfied: rdkit in /usr/local/lib/python3.10/dist-packages (2023.3.1)\n",
            "Requirement already satisfied: Pillow in /usr/local/lib/python3.10/dist-packages (from rdkit) (8.4.0)\n",
            "Requirement already satisfied: numpy in /usr/local/lib/python3.10/dist-packages (from rdkit) (1.22.4)\n"
          ]
        }
      ],
      "source": [
        "#@title Instalación de ```RDKit```\n",
        "!pip install rdkit"
      ]
    },
    {
      "cell_type": "code",
      "source": [
        "#@title Importamos los métodos para el cálculo de propiedades\n",
        "import numpy as np #importamos la librería numérica numpy\n",
        "import rdkit #import all RDKit\n",
        "from rdkit import Chem # importamos el módulo Chem (chemistry) de RDKit\n",
        "from rdkit.Chem import Descriptors # importamos el módulo Descriptors para el cálculo de descriptores moleculares\n",
        "from rdkit.Chem import Draw #importamos el módulo Draw visualizar moléculas en 2D\n",
        "from rdkit.Chem.Draw import IPythonConsole #permitimos a Draw insertar imágenes en el Colab\n",
        "from rdkit.Chem import AllChem"
      ],
      "metadata": {
        "cellView": "form",
        "id": "Z0JrOs7gIySx"
      },
      "execution_count": 49,
      "outputs": []
    },
    {
      "cell_type": "markdown",
      "source": [
        "Ahora estamos listos para probar RDKit en google Colab"
      ],
      "metadata": {
        "id": "KB3P2z6ER1xe"
      }
    },
    {
      "cell_type": "code",
      "source": [
        "#@title Creamos una molécula a partir del SMILES\n",
        "caffeine = Chem.MolFromSmiles('Cn1cnc2c1c(=O)n(c(=O)n2C)C')"
      ],
      "metadata": {
        "id": "3yv99pYpI8_z"
      },
      "execution_count": 50,
      "outputs": []
    },
    {
      "cell_type": "code",
      "source": [
        "#@title Visualizamos la molécula en screen\n",
        "caffeine"
      ],
      "metadata": {
        "colab": {
          "base_uri": "https://localhost:8080/",
          "height": 167
        },
        "id": "BV5zo45_JCBe",
        "outputId": "ede4a0e3-ef41-484e-d2a8-21179fb4c9dc"
      },
      "execution_count": 51,
      "outputs": [
        {
          "output_type": "execute_result",
          "data": {
            "text/plain": [
              "<rdkit.Chem.rdchem.Mol at 0x7f1fd75630d0>"
            ],
            "image/png": "[encoded data removed]"
          },
          "metadata": {},
          "execution_count": 51
        }
      ]
    },
    {
      "cell_type": "markdown",
      "source": [
        "Ahora calcularemos las propiedades moleculares utilizando modos y funciones:"
      ],
      "metadata": {
        "id": "OILKbkkMSNf8"
      }
    },
    {
      "cell_type": "code",
      "source": [
        "#@title 1. Constante de partición Octanol/Agua ```logP```\n",
        "clogp = Descriptors.MolLogP(caffeine)\n",
        "clogp"
      ],
      "metadata": {
        "colab": {
          "base_uri": "https://localhost:8080/"
        },
        "id": "ascCAcmOLrnn",
        "outputId": "8a25a232-b20d-4912-d144-904a209a88da"
      },
      "execution_count": 52,
      "outputs": [
        {
          "output_type": "execute_result",
          "data": {
            "text/plain": [
              "-1.0293"
            ]
          },
          "metadata": {},
          "execution_count": 52
        }
      ]
    },
    {
      "cell_type": "code",
      "source": [
        "#@title 2. Peso Molecular Total ```MWT```\n",
        "mwt = Descriptors.MolWt(caffeine)\n",
        "mwt"
      ],
      "metadata": {
        "colab": {
          "base_uri": "https://localhost:8080/"
        },
        "id": "W6ocFDrRSozo",
        "outputId": "e383ef0b-9b10-4184-ba58-0f1fdb2a4a36"
      },
      "execution_count": 53,
      "outputs": [
        {
          "output_type": "execute_result",
          "data": {
            "text/plain": [
              "194.194"
            ]
          },
          "metadata": {},
          "execution_count": 53
        }
      ]
    },
    {
      "cell_type": "code",
      "source": [
        "#@title 3. Enlaces Rotables ```RB```\n",
        "rb = Descriptors.NumRotatableBonds(caffeine)\n",
        "rb"
      ],
      "metadata": {
        "colab": {
          "base_uri": "https://localhost:8080/"
        },
        "id": "pXCsG-AgS6rQ",
        "outputId": "1218ea2f-5ca1-42f5-ece4-fdf8929a7849"
      },
      "execution_count": 54,
      "outputs": [
        {
          "output_type": "execute_result",
          "data": {
            "text/plain": [
              "0"
            ]
          },
          "metadata": {},
          "execution_count": 54
        }
      ]
    },
    {
      "cell_type": "code",
      "source": [
        "#@title Función para el cómputo de la proporción aromática\n",
        "def ProporcionAromatica(m):\n",
        "  atomos_aromaticos = [m.GetAtomWithIdx(i).GetIsAromatic() for i in range(m.GetNumAtoms())]\n",
        "  aa_count = []\n",
        "  for i in atomos_aromaticos:\n",
        "    if i==True:\n",
        "      aa_count.append(1)\n",
        "  TotAtomAromatic = sum(aa_count)\n",
        "  TotAtomMol = Descriptors.HeavyAtomCount(m)\n",
        "  PropArom = TotAtomAromatic/TotAtomMol\n",
        "  return PropArom\n",
        "\n",
        "def PropNonCAtomos(m):\n",
        "  pattern = Chem.MolFromSmarts(\"[C,c]\")\n",
        "  CAtoms = m.GetSubstructMatches(pattern)\n",
        "  TotAtomMol = Descriptors.HeavyAtomCount(m)\n",
        "  NonCAtoms = TotAtomMol - len(CAtoms)\n",
        "  PropNCAt = NonCAtoms/TotAtomMol\n",
        "  return PropNCAt"
      ],
      "metadata": {
        "cellView": "form",
        "id": "I5f54CBvLrrN"
      },
      "execution_count": 55,
      "outputs": []
    },
    {
      "cell_type": "code",
      "source": [
        "#@title 4. Proporción Aromática ```AP```\n",
        "ap = ProporcionAromatica(caffeine)\n",
        "ap"
      ],
      "metadata": {
        "colab": {
          "base_uri": "https://localhost:8080/"
        },
        "id": "m5KicK7cTUJJ",
        "outputId": "340f620c-7e43-4a7a-b312-e86b7b4c6dae"
      },
      "execution_count": 56,
      "outputs": [
        {
          "output_type": "execute_result",
          "data": {
            "text/plain": [
              "0.6428571428571429"
            ]
          },
          "metadata": {},
          "execution_count": 56
        }
      ]
    },
    {
      "cell_type": "markdown",
      "source": [
        "Finalmente estamos listos para estimar la solubilidad de la cafeína con la ecuación de Delaney"
      ],
      "metadata": {
        "id": "aUVH03cZTkaD"
      }
    },
    {
      "cell_type": "code",
      "source": [
        "#@title Estimación de $log(S_w)$ por el método de Delaney\n",
        "log_sol_calc = 0.16 - 0.63*clogp - 0.0062*mwt + 0.066*rb - 0.74*ap\n",
        "print('Solubilidad estimada: ', log_sol_calc)\n",
        "print('Este es el valor a reportar en el archivo de Google Worsheet')\n",
        "log_sol_calc"
      ],
      "metadata": {
        "colab": {
          "base_uri": "https://localhost:8080/"
        },
        "id": "mFMl64SML405",
        "outputId": "1c78b662-6e2d-4c4f-c9eb-e7c426821a89"
      },
      "execution_count": 61,
      "outputs": [
        {
          "output_type": "stream",
          "name": "stdout",
          "text": [
            "Solubilidad estimada:  -0.8712580857142854\n",
            "Este es el valor a reportar en el archivo de Google Worsheet\n"
          ]
        },
        {
          "output_type": "execute_result",
          "data": {
            "text/plain": [
              "-0.8712580857142854"
            ]
          },
          "metadata": {},
          "execution_count": 61
        }
      ]
    },
    {
      "cell_type": "code",
      "source": [
        "#@title https://docs.google.com/spreadsheets/d/1lvzF0wDQHMFAOIMQ0mI2SNOuwjaEPx056_6tAyiC1mI/edit?usp=sharing\n"
      ],
      "metadata": {
        "cellView": "form",
        "id": "t99Jzfy_oval"
      },
      "execution_count": null,
      "outputs": []
    },
    {
      "cell_type": "markdown",
      "source": [
        "Según [PubChem](https://pubchem.ncbi.nlm.nih.gov/compound/2519#section=Solubility) la solublidad de la cafeína de manera experimental arroja un valor de 2.17g/100mL, por lo que podemos calcular $log(S_w)^{experimental}$"
      ],
      "metadata": {
        "id": "TUkNX3ckXME4"
      }
    },
    {
      "cell_type": "code",
      "source": [
        "log_sol_exp = -np.log(2.17)\n",
        "print('Solubilidad experimental: ', log_sol_exp)"
      ],
      "metadata": {
        "colab": {
          "base_uri": "https://localhost:8080/"
        },
        "id": "uR9gdaBmVDWA",
        "outputId": "1940da28-519b-4a55-a032-93ea96462694"
      },
      "execution_count": 58,
      "outputs": [
        {
          "output_type": "stream",
          "name": "stdout",
          "text": [
            "Solubilidad experimental:  -0.7747271675523681\n"
          ]
        }
      ]
    },
    {
      "cell_type": "code",
      "source": [
        "#@title Porcentaje de Error\n",
        "err = 100*np.abs(log_sol_exp - log_sol_calc)/np.abs(log_sol_exp)\n",
        "print('Porcentaje de error: ', err,'%')"
      ],
      "metadata": {
        "colab": {
          "base_uri": "https://localhost:8080/"
        },
        "id": "35mdTKK2Yhl0",
        "outputId": "87652660-267f-44e7-b07a-d72d3f0717cd"
      },
      "execution_count": 59,
      "outputs": [
        {
          "output_type": "stream",
          "name": "stdout",
          "text": [
            "Porcentaje de error:  12.459988781197893 %\n"
          ]
        }
      ]
    }
  ]
}